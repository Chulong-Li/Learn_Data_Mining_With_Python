{
 "cells": [
  {
   "cell_type": "code",
   "execution_count": 2,
   "metadata": {},
   "outputs": [
    {
     "name": "stdout",
     "output_type": "stream",
     "text": [
      "This dataset has 100 samples and 5 features\n"
     ]
    }
   ],
   "source": [
    "import numpy as np\n",
    "dataset_filename = \"affinity_dataset.txt\"\n",
    "X = np.loadtxt(dataset_filename)\n",
    "n_samples, n_features = X.shape\n",
    "print(\"This dataset has {0} samples and {1} features\".format(n_samples, n_features))"
   ]
  },
  {
   "cell_type": "code",
   "execution_count": 3,
   "metadata": {},
   "outputs": [
    {
     "name": "stdout",
     "output_type": "stream",
     "text": [
      "[[ 0.  0.  1.  1.  1.]\n",
      " [ 1.  1.  0.  1.  0.]\n",
      " [ 1.  0.  1.  1.  0.]\n",
      " [ 0.  0.  1.  1.  1.]\n",
      " [ 0.  1.  0.  0.  1.]]\n"
     ]
    }
   ],
   "source": [
    "print(X[:5])"
   ]
  },
  {
   "cell_type": "code",
   "execution_count": 4,
   "metadata": {},
   "outputs": [
    {
     "name": "stdout",
     "output_type": "stream",
     "text": [
      "36 people bought Apples\n"
     ]
    }
   ],
   "source": [
    "# First, how many rows contain our premise: that a person is buying apples\n",
    "num_apple_purchases = 0\n",
    "for sample in X:\n",
    "        if sample[3] == 1: #This person bought Apples\n",
    "            num_apple_purchases += 1\n",
    "print(\"{0} people bought Apples\".format(num_apple_purchases))"
   ]
  },
  {
   "cell_type": "code",
   "execution_count": 5,
   "metadata": {
    "collapsed": true
   },
   "outputs": [],
   "source": [
    "from collections import defaultdict\n",
    "valid_rules = defaultdict(int)\n",
    "invalid_rules =defaultdict(int)\n",
    "num_occurances = defaultdict(int)"
   ]
  },
  {
   "cell_type": "code",
   "execution_count": 6,
   "metadata": {},
   "outputs": [],
   "source": [
    "for sample in X:\n",
    "    for premise in range(n_features):\n",
    "        if sample[premise] == 0: \n",
    "            continue\n",
    "        num_occurances[premise] += 1\n",
    "        for conclusion in range(n_features):\n",
    "            if premise == conclusion: \n",
    "                continue\n",
    "            if sample[conclusion] == 1:\n",
    "                valid_rules[(premise, conclusion)] += 1\n",
    "            else:\n",
    "                invalid_rules[(premise, conclusion)] += 1"
   ]
  },
  {
   "cell_type": "code",
   "execution_count": 7,
   "metadata": {},
   "outputs": [],
   "source": [
    "support = valid_rules"
   ]
  },
  {
   "cell_type": "code",
   "execution_count": 8,
   "metadata": {},
   "outputs": [],
   "source": [
    "# The names of the features, for your reference.\n",
    "features = [\"bread\", \"milk\", \"cheese\", \"apples\", \"bananas\"]\n",
    "confidence = defaultdict(float)\n",
    "for premise, conclusion in valid_rules.keys():\n",
    "    rule = (premise, conclusion)\n",
    "    confidence[ rule] = valid_rules[rule] / num_occurances[premise]"
   ]
  },
  {
   "cell_type": "code",
   "execution_count": 9,
   "metadata": {},
   "outputs": [],
   "source": [
    "def print_rule(premise, conclusion, support, confidence, features):\n",
    "    premise_name = features[premise]\n",
    "    conclusion_name = features[conclusion]\n",
    "    print(\"Rule: If a person buys {0} they will also buy {1}\".format(premise_name, conclusion_name))\n",
    "    print(\" - Support: {0}\".format(support[(premise, conclusion)]))\n",
    "    print(\" - Confidence: {0:.3f}\".format(confidence[(premise, conclusion)]))"
   ]
  },
  {
   "cell_type": "code",
   "execution_count": 10,
   "metadata": {},
   "outputs": [
    {
     "name": "stdout",
     "output_type": "stream",
     "text": [
      "Rule: If a person buys milk they will also buy apples\n",
      " - Support: 9\n",
      " - Confidence: 0.196\n"
     ]
    }
   ],
   "source": [
    "premise = 1\n",
    "conclusion = 3\n",
    "print_rule(premise, conclusion, support, confidence, features)"
   ]
  },
  {
   "cell_type": "code",
   "execution_count": 11,
   "metadata": {
    "collapsed": true
   },
   "outputs": [],
   "source": [
    "from operator import itemgetter\n",
    "sorted_support = sorted(support.items(), key = itemgetter(1), reverse = True)"
   ]
  },
  {
   "cell_type": "code",
   "execution_count": 12,
   "metadata": {},
   "outputs": [
    {
     "name": "stdout",
     "output_type": "stream",
     "text": [
      "Rule #1\n",
      "Rule: If a person buys cheese they will also buy bananas\n",
      " - Support: 27\n",
      " - Confidence: 0.659\n",
      "Rule #2\n",
      "Rule: If a person buys bananas they will also buy cheese\n",
      " - Support: 27\n",
      " - Confidence: 0.458\n",
      "Rule #3\n",
      "Rule: If a person buys cheese they will also buy apples\n",
      " - Support: 25\n",
      " - Confidence: 0.610\n",
      "Rule #4\n",
      "Rule: If a person buys apples they will also buy cheese\n",
      " - Support: 25\n",
      " - Confidence: 0.694\n",
      "Rule #5\n",
      "Rule: If a person buys apples they will also buy bananas\n",
      " - Support: 21\n",
      " - Confidence: 0.583\n"
     ]
    }
   ],
   "source": [
    "for index in range(5):\n",
    "    print(\"Rule #{0}\".format(index + 1))\n",
    "    premise, conclusion = sorted_support[index][0]\n",
    "    print_rule(premise, conclusion, support, confidence, features)"
   ]
  },
  {
   "cell_type": "code",
   "execution_count": null,
   "metadata": {
    "collapsed": true
   },
   "outputs": [],
   "source": []
  }
 ],
 "metadata": {
  "kernelspec": {
   "display_name": "Python 3",
   "language": "python",
   "name": "python3"
  }
 },
 "nbformat": 4,
 "nbformat_minor": 2
}
